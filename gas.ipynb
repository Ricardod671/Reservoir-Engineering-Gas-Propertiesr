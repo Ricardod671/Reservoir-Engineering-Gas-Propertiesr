{
 "cells": [
  {
   "cell_type": "code",
   "execution_count": 11,
   "metadata": {},
   "outputs": [],
   "source": [
    "def ppc(sg):\n",
    "    \n",
    "    '''This funtion is for calculate the psedo pressure compresibility (ppc) \n",
    "    with the correlation develop by sutton,receive as input specific gravity\n",
    "    and as output the ppc in psia.The correlation work with a value of sg \n",
    "    between 0.57 and 1.68'''\n",
    "\n",
    "    if sg<0.57 or sg>1.68:\n",
    "        ppc=print(\"The ppc correlation work with sg values between 0.57 and 1.69\")\n",
    "    else:ppc=756.8+(131*sg)-(3.6*sg*sg)\n",
    "\n",
    "    return ppc\n",
    "\n"
   ]
  },
  {
   "cell_type": "code",
   "execution_count": 14,
   "metadata": {},
   "outputs": [
    {
     "name": "stdout",
     "output_type": "stream",
     "text": [
      "The ppc correlation work with sg values between 0.57 and 1.69\n",
      "None\n"
     ]
    }
   ],
   "source": [
    "print(ppc(1.69))"
   ]
  },
  {
   "cell_type": "code",
   "execution_count": 7,
   "metadata": {},
   "outputs": [],
   "source": [
    "def tpc(sg):\n",
    "    '''This funtion is for calculate the psedo temperature compresibility (tpc)\n",
    "    with the correlation develop by sutton, receive as input specific gravity\n",
    "    and as output the tpc in Rankin'''\n",
    "    tpc=169.2+(349.5*sg)-(74*sg*sg)\n",
    "    return tpc"
   ]
  },
  {
   "cell_type": "code",
   "execution_count": 4,
   "metadata": {},
   "outputs": [
    {
     "name": "stdout",
     "output_type": "stream",
     "text": [
      "368.89285\n"
     ]
    }
   ],
   "source": [
    "print(tpc(0.665))"
   ]
  },
  {
   "cell_type": "code",
   "execution_count": null,
   "metadata": {},
   "outputs": [],
   "source": []
  }
 ],
 "metadata": {
  "kernelspec": {
   "display_name": "py39",
   "language": "python",
   "name": "python3"
  },
  "language_info": {
   "codemirror_mode": {
    "name": "ipython",
    "version": 3
   },
   "file_extension": ".py",
   "mimetype": "text/x-python",
   "name": "python",
   "nbconvert_exporter": "python",
   "pygments_lexer": "ipython3",
   "version": "3.9.16"
  },
  "orig_nbformat": 4,
  "vscode": {
   "interpreter": {
    "hash": "53c770793471eaba0d6b6b23fa8abda95cad473d29685a0857ddda58bc5ccd32"
   }
  }
 },
 "nbformat": 4,
 "nbformat_minor": 2
}

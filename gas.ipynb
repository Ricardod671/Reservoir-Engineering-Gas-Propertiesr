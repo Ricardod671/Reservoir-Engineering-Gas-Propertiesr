{
 "cells": [
  {
   "cell_type": "code",
   "execution_count": 23,
   "metadata": {},
   "outputs": [],
   "source": [
    "def ppc(sg):\n",
    "    \n",
    "    '''This funtion is for calculate the psedo pressure compresibility (ppc) \n",
    "    with the correlation develop by sutton,receive as input specific gravity\n",
    "    and as output the ppc in psia.The correlation work with a value of sg \n",
    "    between 0.57 and 1.68'''\n",
    "\n",
    "    if 0.57<=sg<=1.68:\n",
    "        return 756.8-(131*sg)-(3.6*sg**2)    \n",
    "    else:\n",
    "        return \"The ppc correlation work with sg values between 0.57 and 1.68, please try with values in range\"\n",
    "    "
   ]
  },
  {
   "cell_type": "code",
   "execution_count": 24,
   "metadata": {},
   "outputs": [],
   "source": [
    "def ppr(sg,p):\n",
    "\n",
    "    '''This funtion calculate the pseudocritical pressure (ppr)\n",
    "    as input need the especific gravity (adimensional) and pressure in psi \n",
    "    and as output the ppr (adimensional) '''\n",
    "    \n",
    "    try:\n",
    "        return p/ppc(sg)\n",
    "    \n",
    "    except ZeroDivisionError:\n",
    "        print(\"you can't not divide between cero\")\n",
    "        return \"warning is not possible divide between cero\"\n",
    "    except TypeError:\n",
    "        print(\"The correlation work in the range of sg between  0.57 and 1.68\")\n",
    "        return \"use values of sg in range\"\n"
   ]
  },
  {
   "cell_type": "code",
   "execution_count": 26,
   "metadata": {},
   "outputs": [],
   "source": [
    "def tpc(sg):\n",
    "    \n",
    "    '''This funtion is for calculate the psedo temperature compresibility (tpc)\n",
    "    with the correlation develop by sutton, receive as input specific gravity\n",
    "    and as output the tpc in Rankin.The correlation work with a value of sg \n",
    "    between 0.57 and 1.68'''\n",
    "\n",
    "    if 0.57<=sg<=1.68:\n",
    "        return 169.2+(349.5*sg)-(74*sg**2) \n",
    "    else:\n",
    "        return \"The tpc correlation work with sg values between 0.57 and 1.69\"\n",
    "    "
   ]
  },
  {
   "cell_type": "code",
   "execution_count": 29,
   "metadata": {},
   "outputs": [],
   "source": [
    "def tpr(sg,t):\n",
    "\n",
    "    '''This funtion calculathe the pseudocritical temperature (tpr)\n",
    "    as input need the specific gravity (adimensinal) and temperature in farenheit\n",
    "    and as aouput receive the tpr (adimensinal)'''\n",
    "\n",
    "    try:    \n",
    "        return (460+t)/tpc(sg)\n",
    "    \n",
    "    except ZeroDivisionError:\n",
    "        print(\"you can't not divide between cero\")\n",
    "        return \"warning is not possible divide between cero\"\n",
    "    except TypeError:\n",
    "        print(\"The correlation work in the range of sg between  0.57 and 1.68\")\n",
    "        return \"use values of sg in range\"\n"
   ]
  },
  {
   "cell_type": "code",
   "execution_count": null,
   "metadata": {},
   "outputs": [],
   "source": [
    "def z_factor(sg,t,p):\n",
    "    ''' This funtion calculate the z factor of gas with the correlation of\n",
    "    '''\n",
    "\n",
    "    \n"
   ]
  }
 ],
 "metadata": {
  "kernelspec": {
   "display_name": "py39",
   "language": "python",
   "name": "python3"
  },
  "language_info": {
   "codemirror_mode": {
    "name": "ipython",
    "version": 3
   },
   "file_extension": ".py",
   "mimetype": "text/x-python",
   "name": "python",
   "nbconvert_exporter": "python",
   "pygments_lexer": "ipython3",
   "version": "3.9.16"
  },
  "orig_nbformat": 4,
  "vscode": {
   "interpreter": {
    "hash": "53c770793471eaba0d6b6b23fa8abda95cad473d29685a0857ddda58bc5ccd32"
   }
  }
 },
 "nbformat": 4,
 "nbformat_minor": 2
}

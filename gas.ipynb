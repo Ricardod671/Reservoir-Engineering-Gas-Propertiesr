{
 "cells": [
  {
   "cell_type": "code",
   "execution_count": 37,
   "metadata": {},
   "outputs": [],
   "source": [
    "import math"
   ]
  },
  {
   "cell_type": "code",
   "execution_count": 23,
   "metadata": {},
   "outputs": [],
   "source": [
    "def ppc(sg):\n",
    "    \n",
    "    '''This funtion is for calculate the psedo pressure compresibility (ppc) \n",
    "    with the correlation develop by sutton,receive as input specific gravity\n",
    "    and as output the ppc in psia.The correlation work with a value of sg \n",
    "    between 0.57 and 1.68'''\n",
    "\n",
    "    if 0.57<=sg<=1.68:\n",
    "        return 756.8-(131*sg)-(3.6*sg**2)    \n",
    "    else:\n",
    "        return \"The ppc correlation work with sg values between 0.57 and 1.68, please try with values in range\"\n",
    "    "
   ]
  },
  {
   "cell_type": "code",
   "execution_count": 24,
   "metadata": {},
   "outputs": [],
   "source": [
    "def ppr(sg,p):\n",
    "\n",
    "    '''This funtion calculate the pseudocritical pressure (ppr)\n",
    "    as input need the especific gravity (adimensional) and pressure in psi \n",
    "    and as output the ppr (adimensional) '''\n",
    "    \n",
    "    try:\n",
    "        return p/ppc(sg)\n",
    "    \n",
    "    except ZeroDivisionError:\n",
    "        print(\"you can't not divide between cero\")\n",
    "        return \"warning is not possible divide between cero\"\n",
    "    except TypeError:\n",
    "        print(\"The correlation work in the range of sg between  0.57 and 1.68\")\n",
    "        return \"use values of sg in range\"\n"
   ]
  },
  {
   "cell_type": "code",
   "execution_count": 26,
   "metadata": {},
   "outputs": [],
   "source": [
    "def tpc(sg):\n",
    "    \n",
    "    '''This funtion is for calculate the psedo temperature compresibility (tpc)\n",
    "    with the correlation develop by sutton, receive as input specific gravity\n",
    "    and as output the tpc in Rankin.The correlation work with a value of sg \n",
    "    between 0.57 and 1.68'''\n",
    "\n",
    "    if 0.57<=sg<=1.68:\n",
    "        return 169.2+(349.5*sg)-(74*sg**2) \n",
    "    else:\n",
    "        return \"The tpc correlation work with sg values between 0.57 and 1.69\"\n",
    "    "
   ]
  },
  {
   "cell_type": "code",
   "execution_count": 29,
   "metadata": {},
   "outputs": [],
   "source": [
    "def tpr(sg,t):\n",
    "\n",
    "    '''This funtion calculathe the pseudocritical temperature (tpr)\n",
    "    as input need the specific gravity (adimensinal) and temperature in farenheit\n",
    "    and as aouput receive the tpr (adimensinal)'''\n",
    "\n",
    "    try:    \n",
    "        return (460+t)/tpc(sg)\n",
    "    \n",
    "    except ZeroDivisionError:\n",
    "        print(\"you can't not divide between cero\")\n",
    "        return \"warning is not possible divide between cero\"\n",
    "    except TypeError:\n",
    "        print(\"The correlation work in the range of sg between  0.57 and 1.68\")\n",
    "        return \"use values of sg in range\"\n"
   ]
  },
  {
   "cell_type": "code",
   "execution_count": 33,
   "metadata": {},
   "outputs": [],
   "source": [
    "def z_factor(sg,t,p):\n",
    "\n",
    "    ''' This funtion calculate the z factor of gas, it is used the Dranchuk and Abou-Kassen\n",
    "    equation of state, and resolve it with the Newton-Raphson method. the funtion receive as \n",
    "    input sg (adimensional), temperature in farenheit and pressure in psia and as output \n",
    "    receive z factor of gas (adimensional) '''\n",
    "\n",
    "    # Firs  I need to the constants of the equation of state\n",
    "    A1 = 0.3265\n",
    "    A2 = -1.0700\n",
    "    A3 = -0.5339\n",
    "    A4 = 0.01569\n",
    "    A5 = -0.05165\n",
    "    A6 = 0.5475\n",
    "    A7 = -0.7361\n",
    "    A8 = 0.1844\n",
    "    A9 = 0.1056\n",
    "    A10 = 0.6134\n",
    "    A11 = 0.7210\n",
    "\n",
    "    '''Because z exist in both sides of the equation, trial-and-error solution \n",
    "    is necessary that is the reason why I need a seed for the z factor'''\n",
    "    seed_z = 1 # it is take z value of a ideal gas as seed\n",
    "\n",
    "    # the next step is calculate ppr and tpr\n",
    "\n",
    "    ppr=ppr(sg,p)\n",
    "    tpr=tpr(sg,t)\n",
    "\n",
    "    # The next step is define the equation of state but for do that is more easy do this by parts\n",
    "    density_ro = 0.27 * (ppr/(seed_z * tpr))\n",
    "    c1_tpr = A1 + (A2/tpr) + (A3/tpr**3) + (A4/tpr**4) + (A5/ tpr**5)\n",
    "    c2_tpr = A6 + (A7/tpr) + (A8/tpr**2)\n",
    "    c3_tpr = A9 * ((A7/tpr) + (A8/tpr**2))\n",
    "    c4_tpr_ro = A10 * (1 + (A11 * density_ro**2)) * (density_ro**2/tpr**3) * math.exp(-A11 * density_ro**2)\n",
    "\n",
    "    # now i can write the equation of state in a very easy way\n",
    "    funtion_fz = seed_z - (1 + (c1_tpr * density_ro) + (c2_tpr * density_ro**2) - (c3_tpr * density_ro**5) + c4_tpr_ro)\n",
    "\n",
    "    # writing the derivative equation of state\n",
    "    derivative_fz = 1 + ((c1_tpr * density_ro)/ seed_z) + ((2 * c2_tpr * density_ro**2)/ seed_z) - ((5 * c3_tpr * density_ro**5)/seed_z) + ((2 * A10 * density_ro**2)/(tpr**3 * seed_z)) * (1 + (A11 * density_ro**2) - ((A11 * density_ro**2)**2 * math.exp(-A11 * density_ro**2))) \n",
    "\n",
    "    # It is time to star the begin of the Newton-Raphson\n",
    "    z = seed_z - (funtion_fz/derivative_fz)\n",
    "\n",
    "    # As a good tolerance is plus minus 10**-4\n",
    "    while abs(z - seed_z) <= 0.0001:\n",
    "\n",
    "        seed_z = z\n",
    "    \n",
    "    return z\n",
    "\n",
    "\n",
    "\n",
    "\n",
    "\n",
    "\n",
    "\n",
    "    \n"
   ]
  }
 ],
 "metadata": {
  "kernelspec": {
   "display_name": "py39",
   "language": "python",
   "name": "python3"
  },
  "language_info": {
   "codemirror_mode": {
    "name": "ipython",
    "version": 3
   },
   "file_extension": ".py",
   "mimetype": "text/x-python",
   "name": "python",
   "nbconvert_exporter": "python",
   "pygments_lexer": "ipython3",
   "version": "3.9.16"
  },
  "orig_nbformat": 4,
  "vscode": {
   "interpreter": {
    "hash": "53c770793471eaba0d6b6b23fa8abda95cad473d29685a0857ddda58bc5ccd32"
   }
  }
 },
 "nbformat": 4,
 "nbformat_minor": 2
}
